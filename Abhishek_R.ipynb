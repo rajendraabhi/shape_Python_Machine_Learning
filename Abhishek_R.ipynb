{
  "nbformat": 4,
  "nbformat_minor": 0,
  "metadata": {
    "colab": {
      "name": "Abhishek_R.ipynb",
      "provenance": []
    },
    "kernelspec": {
      "name": "python3",
      "display_name": "Python 3"
    },
    "language_info": {
      "name": "python"
    }
  },
  "cells": [
    {
      "cell_type": "code",
      "metadata": {
        "id": "reUal5Tsqr8t"
      },
      "source": [
        "import numpy as np\n",
        "import pandas as pd\n",
        "import sklearn \n",
        "from sklearn.datasets import load_boston\n",
        "df=load_boston\n",
        "df.keys()\n",
        "boston=pd.DataFrame(df.data,columns=df.feature_names)\n",
        "boston.head()\n",
        "boston['MEDV']=df.target\n",
        "bodton.head() \n",
        "from sklearn.model_selection import train_test_split\n",
        "x=boston.drop('MEDV',axis=1)\n",
        "y=boston['MEDV']\n",
        "x_train,x_test,y_train,y_test=train_test_split(x,y,test_size=0.15, random_state=5)\n",
        "print(x_train.shape)\n",
        "print(x_test.shape)\n",
        "print(y_train.shape)\n",
        "print(y_test.shape)\n",
        "from sklearn.linear_model import LinearRegression\n",
        "from sklearn.metrics import mean_squared_error\n",
        "x=boston.drop('MEDV',axis=1)\n",
        "x_train,x_test,y_train,y_test=train_test_split(x,y,test_size=0.15, random_state=5)\n",
        "lin_model= LinearRegression()\n",
        "lin_model.fit(x_train,y_train)\n",
        "\n",
        "y_train_predit=lin_model.predict(x_train)\n",
        "rmse=(np.sqrt(mean_squared_error(y_train,y_train_predict)))\n",
        "print(\"the model perforamne for training set\")\n",
        "print('RMS is {}'.format(rmse))\n",
        "print(\"\\n\")\n",
        "\n",
        "y_test_predict = lin_model.predict(x_test)\n",
        "rmse = (np.sqrt(mean_squared_error(y_test,y_test_predict)))\n",
        "print(\"the model perforamne for testing set\")\n",
        "print('RMSE is {}'.fromat(rmse))\n"
      ],
      "execution_count": 1,
      "outputs": []
    }
  ]
}